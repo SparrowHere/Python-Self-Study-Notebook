{
 "cells": [
  {
   "cell_type": "markdown",
   "metadata": {},
   "source": [
    "# AI Deep Learning Bootcamp 2022"
   ]
  },
  {
   "cell_type": "code",
   "execution_count": null,
   "metadata": {},
   "outputs": [],
   "source": [
    "# Bilgi paylaşımı ve grup çalışması önemli. Gelecekte staj hatta iş imkanı (mentorlük) olasılığı yüksek. \n",
    "# Daha çok Tensorflow ve PyTorch kullanılacak.\n",
    "# Deep Learning, Computer Vision, Data Science konuları üzerinde çalışılacak.\n",
    "# Eğitim saatleri akşam 19:00'da olacak.\n",
    "# Takımlar katılımcılar arasında oluşturulacak.\n",
    "# GitHub potfolio oluşturma eğitimi de verilecek.\n",
    "\n",
    "# Sertifika için;\n",
    "# 1.) Webinar'lara katılım\n",
    "# 2.) Takım projesinin tamamlanması"
   ]
  },
  {
   "cell_type": "code",
   "execution_count": null,
   "metadata": {},
   "outputs": [],
   "source": [
    "# 1. HAFTA: Global AI Hub'da bulunan \"Pyton for Machine Learning\" kursu bitirilecek (19 - 25 Eylül)\n",
    "# 2. HAFTA: Global AI Hub'da bulunan \"Introduction to Deep Learning\" kursu bitirilecek (26 Eylül - 2 Ekim)\n",
    "# 3. HAFTA: Proje Haftası"
   ]
  }
 ],
 "metadata": {
  "kernelspec": {
   "display_name": "Python 3.10.1 ('venvDemo': venv)",
   "language": "python",
   "name": "python3"
  },
  "language_info": {
   "name": "python",
   "version": "3.10.1"
  },
  "orig_nbformat": 4,
  "vscode": {
   "interpreter": {
    "hash": "5d29ec5c0f7219b1e1824272adf7e1b14e4ab7db05cf5dadd4875c020fb1f69d"
   }
  }
 },
 "nbformat": 4,
 "nbformat_minor": 2
}
