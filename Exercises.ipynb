{
 "cells": [
  {
   "cell_type": "markdown",
   "metadata": {},
   "source": [
    "## 🔥Exercises"
   ]
  },
  {
   "cell_type": "markdown",
   "metadata": {},
   "source": [
    "**Exercise 1:** Calculate the multiplication and sum of two numbers"
   ]
  },
  {
   "cell_type": "code",
   "execution_count": 2,
   "metadata": {},
   "outputs": [],
   "source": [
    "def multiplication(num1: int, num2: int):\n",
    "    return num1 * num2\n",
    "\n",
    "assert multiplication(20, 30) == 600"
   ]
  },
  {
   "cell_type": "markdown",
   "metadata": {},
   "source": [
    "**Exercise 2:** Print the sum of the current number and the previous number"
   ]
  },
  {
   "cell_type": "code",
   "execution_count": 10,
   "metadata": {},
   "outputs": [
    {
     "name": "stdout",
     "output_type": "stream",
     "text": [
      "Current Number: 0 | Previous Number: 0 | Sum: 0\n",
      "Current Number: 1 | Previous Number: 0 | Sum: 1\n",
      "Current Number: 2 | Previous Number: 1 | Sum: 3\n",
      "Current Number: 3 | Previous Number: 2 | Sum: 5\n",
      "Current Number: 4 | Previous Number: 3 | Sum: 7\n",
      "Current Number: 5 | Previous Number: 4 | Sum: 9\n",
      "Current Number: 6 | Previous Number: 5 | Sum: 11\n",
      "Current Number: 7 | Previous Number: 6 | Sum: 13\n",
      "Current Number: 8 | Previous Number: 7 | Sum: 15\n",
      "Current Number: 9 | Previous Number: 8 | Sum: 17\n"
     ]
    }
   ],
   "source": [
    "def iterate(Nums: range):\n",
    "    prev = 0\n",
    "    for i in Nums:\n",
    "        curr = i\n",
    "        print(f\"Current Number: {curr} | Previous Number: {prev} | Sum: {prev + curr}\")\n",
    "        prev = i\n",
    "\n",
    "iterate(range(10))"
   ]
  },
  {
   "cell_type": "markdown",
   "metadata": {},
   "source": [
    "**Exercise 3:** Print characters from a string that are present at an even index number"
   ]
  },
  {
   "cell_type": "code",
   "execution_count": 14,
   "metadata": {},
   "outputs": [
    {
     "name": "stdout",
     "output_type": "stream",
     "text": [
      "Original String is pynative\n",
      "Printing only EVEN index chars:\n",
      "['p', 'n', 't', 'v']\n"
     ]
    }
   ],
   "source": [
    "def presentAtEvenIdx():\n",
    "    inputUser = input(\"String to check:\")\n",
    "    chars = []\n",
    "    for i in range(len(inputUser)):\n",
    "        if i % 2 == 0:\n",
    "            chars.append(inputUser[i])\n",
    "            \n",
    "    print(f\"Original String is {inputUser}\\nPrinting only EVEN index chars:\\n{chars}\")\n",
    "    \n",
    "presentAtEvenIdx()"
   ]
  },
  {
   "cell_type": "markdown",
   "metadata": {},
   "source": [
    "**Exercise 4:** Remove first n characters from a string"
   ]
  },
  {
   "cell_type": "code",
   "execution_count": 23,
   "metadata": {},
   "outputs": [],
   "source": [
    "def removeFirstNchars(string: str, n: int):\n",
    "    return string[n:]\n",
    "assert removeFirstNchars(\"string\", 4) == \"ng\""
   ]
  },
  {
   "cell_type": "markdown",
   "metadata": {},
   "source": [
    "**Exercise 5:** Check if the first and last number of a list is the same"
   ]
  },
  {
   "cell_type": "code",
   "execution_count": 35,
   "metadata": {},
   "outputs": [
    {
     "name": "stdout",
     "output_type": "stream",
     "text": [
      "Given list [10, 20, 30, 40, 10]\n"
     ]
    }
   ],
   "source": [
    "def isFirstLastSame(Nums: list):\n",
    "    print(f\"Given list {Nums}\")\n",
    "    if Nums[0] is Nums[-1]:\n",
    "        return \"Result is True\"\n",
    "    else:\n",
    "        return \"Result is False\"\n",
    "\n",
    "assert isFirstLastSame([10, 20, 30, 40, 10]) == \"Result is True\""
   ]
  },
  {
   "cell_type": "markdown",
   "metadata": {},
   "source": [
    "**Exercise 6:** Display numbers divisible by 5 from a list"
   ]
  },
  {
   "cell_type": "code",
   "execution_count": 43,
   "metadata": {},
   "outputs": [
    {
     "name": "stdout",
     "output_type": "stream",
     "text": [
      "Given list is  [10, 20, 33, 46, 55]        \n",
      "Divisible by 5:\n",
      "10\n",
      "20\n",
      "55\n"
     ]
    }
   ],
   "source": [
    "def divisibleBy5(Nums: list):\n",
    "    print(f\"Given list is  {Nums}\\\n",
    "        \\nDivisible by 5:\")\n",
    "    for i in Nums:\n",
    "        if i % 5 == 0:\n",
    "            print(i)\n",
    "        else:\n",
    "            continue\n",
    "\n",
    "divisibleBy5([10, 20, 33, 46, 55])"
   ]
  },
  {
   "cell_type": "markdown",
   "metadata": {},
   "source": [
    "**Exercise 7:** Return the count of a given substring from a string"
   ]
  },
  {
   "cell_type": "code",
   "execution_count": 59,
   "metadata": {},
   "outputs": [
    {
     "name": "stdout",
     "output_type": "stream",
     "text": [
      "Emma appeared 2 times\n"
     ]
    }
   ],
   "source": [
    "def timesEmmaAppears(String: str):\n",
    "    count = 0\n",
    "    String = String.split(\" \")\n",
    "    for i in String:\n",
    "        if i == \"Emma\":\n",
    "            count += 1\n",
    "        else:\n",
    "            continue\n",
    "    return print(f\"Emma appeared {count} times.\")\n",
    "\n",
    "timesEmmaAppears(\"Emma is good developer. Emma is a writer\")"
   ]
  },
  {
   "cell_type": "markdown",
   "metadata": {},
   "source": [
    "**Exercise 8:** Print the following pattern"
   ]
  },
  {
   "cell_type": "code",
   "execution_count": 62,
   "metadata": {},
   "outputs": [
    {
     "name": "stdout",
     "output_type": "stream",
     "text": [
      "1 \n",
      "2 2 \n",
      "3 3 3 \n",
      "4 4 4 4 \n",
      "5 5 5 5 5 \n"
     ]
    }
   ],
   "source": [
    "def pattern():\n",
    "    for i in range(1, 6):\n",
    "        row = f\"{i} \"*i\n",
    "        print(row)\n",
    "pattern()"
   ]
  },
  {
   "cell_type": "markdown",
   "metadata": {},
   "source": [
    "**Exercise 9:** Check Palindrome Number"
   ]
  },
  {
   "cell_type": "code",
   "execution_count": 73,
   "metadata": {},
   "outputs": [
    {
     "name": "stdout",
     "output_type": "stream",
     "text": [
      "Original Number: 858\n",
      "Yes. Given number is a \"Palindrome\" number.\n"
     ]
    }
   ],
   "source": [
    "def isPalindrome(Num: int):\n",
    "    print(f\"Original Number: {Num}\")\n",
    "    revNum = int(str(Num)[::-1])    # Reversing operation\n",
    "    if Num == revNum:\n",
    "        print(\"Yes. Given number is a \\\"Palindrome\\\" number.\")\n",
    "    else:\n",
    "        print(\"No. Given number is NOT a \\\"Palindrome\\\" number.\")\n",
    "\n",
    "isPalindrome(858)"
   ]
  },
  {
   "cell_type": "markdown",
   "metadata": {},
   "source": [
    "**Exercise 10:** Create a new list from two list using the following condition"
   ]
  },
  {
   "cell_type": "code",
   "execution_count": 77,
   "metadata": {},
   "outputs": [
    {
     "name": "stdout",
     "output_type": "stream",
     "text": [
      "Result list: [25, 35, 40, 60, 90]\n"
     ]
    }
   ],
   "source": [
    "def oddFirstevenSec(list1: list, list2: list):\n",
    "    newList = []\n",
    "    for i in list1:\n",
    "        if i % 2 == 1:\n",
    "            newList.append(i)\n",
    "        else:\n",
    "            continue\n",
    "        \n",
    "    for j in list2:\n",
    "        if j % 2 == 0:\n",
    "            newList.append(j)\n",
    "        else:\n",
    "            continue\n",
    "    return print(f\"Result list: {newList}\")\n",
    "\n",
    "oddFirstevenSec(\n",
    "    [10, 20, 25, 30, 35],\n",
    "    [40, 45, 60, 75, 90]\n",
    ")"
   ]
  },
  {
   "cell_type": "markdown",
   "metadata": {},
   "source": [
    "~~**Exercise 11:** Write a Program to extract each digit from an integer in the reverse order.~~"
   ]
  },
  {
   "cell_type": "markdown",
   "metadata": {},
   "source": [
    "**Exercise 12:** Calculate income tax for the given income by adhering to the rules below"
   ]
  },
  {
   "cell_type": "code",
   "execution_count": 132,
   "metadata": {},
   "outputs": [
    {
     "data": {
      "text/plain": [
       "6000.0"
      ]
     },
     "execution_count": 132,
     "metadata": {},
     "output_type": "execute_result"
    }
   ],
   "source": [
    "def incomeTax(income: int):\n",
    "    if income <= 10e3:\n",
    "        return income   # 0% Tax Rate\n",
    "    elif income >= 10e3 and income < 20e3:\n",
    "        return 10e3*.0 + (income - 10e3)*.1\n",
    "    else:\n",
    "        return 10e3*.0 + (10e3*.1) + (income - 20e3)*.2\n",
    "\n",
    "incomeTax(45e3)"
   ]
  }
 ],
 "metadata": {
  "kernelspec": {
   "display_name": "base",
   "language": "python",
   "name": "python3"
  },
  "language_info": {
   "codemirror_mode": {
    "name": "ipython",
    "version": 3
   },
   "file_extension": ".py",
   "mimetype": "text/x-python",
   "name": "python",
   "nbconvert_exporter": "python",
   "pygments_lexer": "ipython3",
   "version": "3.9.13"
  },
  "orig_nbformat": 4
 },
 "nbformat": 4,
 "nbformat_minor": 2
}
